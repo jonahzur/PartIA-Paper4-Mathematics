{
 "cells": [
  {
   "cell_type": "markdown",
   "metadata": {},
   "source": [
    "# IA Paper 4 - Mathematics - Examples paper 4"
   ]
  },
  {
   "cell_type": "markdown",
   "metadata": {},
   "source": [
    "## Question 7\n",
    "\n",
    "In an epidemic, there are at any particular time x people not yet infected and y people who are ill. The rate at which people become ill is $\\alpha x$, where $\\alpha$ is a constant. If x is initially equal to N, find an expression for x at time t. (Regard the numbers of people x and y as continuous variables.) \n",
    "\n",
    "The rates of recovery and death of those who are ill are $\\beta y$ and $\\gamma y$, respectively. If y is initially equal to zero, find an expression for the number of deaths up to time t from the start of the epidemic. (Assume that those who recover are immune from further infection.) \n",
    "\n",
    "The expression for the number of deaths appears to be indeterminate if $\\alpha = \\beta + \\gamma$. Find the limiting form of the expression as $\\beta + \\gamma \\rightarrow \\alpha$.\n",
    "\n",
    "Not all differential equations can be solved algebraically: sometimes numerical integration is the only option. Use Python to solve the system of equations numerically, and compare the numerical and exact solutions graphically.\n",
    "\n",
    "__Python hints__ \n",
    "- Start by choosing your $\\alpha$, $\\beta$, $\\gamma$ values and an arbitrary total number of people.  \n",
    "- Use Euler integration to find the solutions numerically. The Euler method estimates the next value by approximating the solution to be a straight line from the previous point, with gradient equal to the derivative at the original point.  \n",
    "- The Euler integration method is a first-order method, which means that the local error (error per step) is proportional to the square of the step size, and the global error (error at a given time) is proportional to the step size. If you wish for an extension, try plotting several step size values on the same plot, or plot the average error against the step size to see this relationship.\n",
    "\n"
   ]
  },
  {
   "cell_type": "markdown",
   "metadata": {},
   "source": [
    "### Solution\n",
    "\n",
    "First we import all relevant modules. We will need numpy and matplotlib.pyplot. We also use the command for inline plotting in Jupyter notebooks."
   ]
  },
  {
   "cell_type": "code",
   "execution_count": 1,
   "metadata": {},
   "outputs": [],
   "source": [
    "# Import modules\n",
    "import numpy as np\n",
    "import matplotlib.pyplot as plt\n",
    "\n",
    "# Special command for plotting inside a Jupyter notebook\n",
    "%matplotlib inline"
   ]
  },
  {
   "cell_type": "markdown",
   "metadata": {},
   "source": [
    "We define the parameters $\\alpha$, $\\beta$, $\\gamma$ and N for the simulation- experiment with different values."
   ]
  },
  {
   "cell_type": "code",
   "execution_count": 2,
   "metadata": {},
   "outputs": [],
   "source": [
    "# Rate of infection (Try numbers close to β + γ as well)\n",
    "α = 0.6\n",
    "\n",
    "# Rate of recovory\n",
    "β = 0.3\n",
    "\n",
    "# Rate of death\n",
    "γ = 0.15\n",
    "\n",
    "# Total population\n",
    "N = 1000"
   ]
  },
  {
   "cell_type": "markdown",
   "metadata": {},
   "source": [
    "We define the initial conditions (supplied by the question)."
   ]
  },
  {
   "cell_type": "code",
   "execution_count": 3,
   "metadata": {},
   "outputs": [],
   "source": [
    "# Number of healthy people intially\n",
    "x = N\n",
    "\n",
    "# Number of people who are ill initially\n",
    "y = 0\n",
    "\n",
    "# Number of dead people initially\n",
    "z = 0\n",
    "\n",
    "# Starting time\n",
    "t = 0"
   ]
  },
  {
   "cell_type": "markdown",
   "metadata": {},
   "source": [
    "We set the time parameters - the approximate total time to run over and the step size."
   ]
  },
  {
   "cell_type": "code",
   "execution_count": 4,
   "metadata": {},
   "outputs": [],
   "source": [
    "# Maximum time over which to run simulation\n",
    "tmax = 10\n",
    "\n",
    "# Interval step size. Look at the effect of changing this.\n",
    "dt = 0.2\n",
    "\n",
    "# Number of time points (length of arrays) (includes t = 0)\n",
    "length = round(((tmax)/dt) + 1)"
   ]
  },
  {
   "cell_type": "markdown",
   "metadata": {},
   "source": [
    "We initialize arrays of the correct length for the the number of healthy, ill and dead people as well as time, to record the various counts at each time step so we can plot the trajectories later (the first member of the list is the initial condition for that variable, the second member is that variable a time dt later)."
   ]
  },
  {
   "cell_type": "code",
   "execution_count": 5,
   "metadata": {},
   "outputs": [],
   "source": [
    "# Initialises arrays filled with zeros\n",
    "X = np.zeros(length)\n",
    "Y = np.zeros(length)\n",
    "Z = np.zeros(length)\n",
    "T = np.zeros(length)"
   ]
  },
  {
   "cell_type": "markdown",
   "metadata": {},
   "source": [
    "We create the main loop - we iterate over the length of the array corresponding to time steps of `dt` up to `tmax`. This is the integration part - we use the Euler method.\n",
    "\n",
    "We use the fact that, for example, $x = x + (dx/dt) \\Delta t $ to find the x value for the next step, dt further along:\n",
    "\n",
    "$$ \n",
    "x_{i+1} = x_i - \\alpha x_i \\Delta t \\\\\n",
    "y_{i+1} = y_i + \\alpha x_i \\Delta t - \\beta y_i \\Delta t - \\gamma y_i \\Delta t \\\\\n",
    "z_{i+1} = z_i + \\gamma y_i \\Delta t\n",
    "$$\n",
    "\n",
    "We we end up with four arrays, `X`, `Y`, `Z` and `T` which contain our time steps and the numerically calculated values for x, y and z."
   ]
  },
  {
   "cell_type": "code",
   "execution_count": 6,
   "metadata": {},
   "outputs": [],
   "source": [
    "X[0] = x\n",
    "Y[0] = y\n",
    "Z[0] = z\n",
    "T[0] = 0\n",
    "for i in range(length-1):\n",
    "    # Calculate the next value of x, y, z from the current values and gradients\n",
    "    X[i+1] = X[i] - α*X[i]*dt\n",
    "    Y[i+1] = Y[i] + α*X[i]*dt - β*Y[i]*dt - γ*Y[i]*dt\n",
    "    Z[i+1] = Z[i] + γ*Y[i]*dt\n",
    "    T[i+1] = T[i] + dt"
   ]
  },
  {
   "cell_type": "markdown",
   "metadata": {},
   "source": [
    "We calculate the exact solution, for comparison.\n",
    "\n",
    "First we must create the arrays to hold our exact solutions.  We create another time array so we can reduce the step size for the numerical integration without effecting how often we sample the exact solution. We set the intervals to give us an appropriate degree of precision."
   ]
  },
  {
   "cell_type": "code",
   "execution_count": 7,
   "metadata": {},
   "outputs": [],
   "source": [
    "# Create a T array with the values at which we calculate the exact solutions\n",
    "T_exact = np.linspace(0, tmax, 1001)"
   ]
  },
  {
   "cell_type": "markdown",
   "metadata": {},
   "source": [
    "We then fill the arrays with the exact values at each time value, from our equations as calculated in the question:   \n",
    "\n",
    "$$\n",
    "x = Ne^{-\\alpha t}\\\\ \n",
    "y = \\frac{\\alpha N}{\\beta + \\gamma - \\alpha} \\big(e^{-\\alpha t} - e^{-(\\beta +\\gamma)t}\\big)\\\\\n",
    "z = \\frac{\\alpha \\gamma N}{\\beta + \\gamma - \\alpha}  \\Big( \\frac{1-e^{-\\alpha t}}{\\alpha} - \\frac{1- e^{-(\\beta +\\gamma )t}}{\\beta +\\gamma} \\Big)\n",
    "$$"
   ]
  },
  {
   "cell_type": "code",
   "execution_count": 8,
   "metadata": {},
   "outputs": [],
   "source": [
    "# Calculate the exact values\n",
    "X_exact = (N*np.exp(-α*T_exact))\n",
    "Y_exact = ((α*N)/(β + γ - α)*(np.exp(-α * T_exact) - np.exp(-(β + γ)*T_exact)))\n",
    "Z_exact = ((α*γ*N)/(β + γ - α)*((1 - np.exp(-α*T_exact))/α - (1 - np.exp(-(β + γ)*T_exact))/(β + γ)))"
   ]
  },
  {
   "cell_type": "markdown",
   "metadata": {},
   "source": [
    "We finally plot the numerical solutions on the same axes as the exact solutions."
   ]
  },
  {
   "cell_type": "code",
   "execution_count": 9,
   "metadata": {},
   "outputs": [
    {
     "data": {
      "image/png": "[encoded data removed]",
      "text/plain": [
       "<matplotlib.figure.Figure at 0x7f287d939f98>"
      ]
     },
     "metadata": {},
     "output_type": "display_data"
    }
   ],
   "source": [
    "plt.plot(T,X,T,Y,T,Z,T_exact,X_exact,T_exact,Y_exact,T_exact,Z_exact);"
   ]
  }
 ],
 "metadata": {
  "anaconda-cloud": {},
  "kernelspec": {
   "display_name": "Python 3",
   "language": "python",
   "name": "python3"
  },
  "language_info": {
   "codemirror_mode": {
    "name": "ipython",
    "version": 3
   },
   "file_extension": ".py",
   "mimetype": "text/x-python",
   "name": "python",
   "nbconvert_exporter": "python",
   "pygments_lexer": "ipython3",
   "version": "3.6.3"
  }
 },
 "nbformat": 4,
 "nbformat_minor": 1
}
